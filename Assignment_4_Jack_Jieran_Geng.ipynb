{
  "nbformat": 4,
  "nbformat_minor": 0,
  "metadata": {
    "colab": {
      "name": "Assignment 4-Jack-Jieran Geng.ipynb",
      "provenance": []
    },
    "kernelspec": {
      "name": "python3",
      "display_name": "Python 3"
    },
    "language_info": {
      "name": "python"
    }
  },
  "cells": [
    {
      "cell_type": "markdown",
      "metadata": {
        "id": "yA4_snBser8d"
      },
      "source": [
        "**Assignment 4**"
      ]
    },
    {
      "cell_type": "markdown",
      "metadata": {
        "id": "DkhTAdQRhpSC"
      },
      "source": [
        "In this assignment, I use greedy algorithm to create my own TSP solution that finds the shortest distance.\n"
      ]
    },
    {
      "cell_type": "markdown",
      "metadata": {
        "id": "Ph1PuH58bupm"
      },
      "source": [
        "Hemingway came to lots of places in his life and he only lived in Oak Park, Paris, Milano,Toronto,Chicago,Key west, Havana,Vence, Entebbe,New York and Ketchum. "
      ]
    },
    {
      "cell_type": "markdown",
      "metadata": {
        "id": "uqo2_MkeeJdF"
      },
      "source": [
        "#Import necessary package\n",
        " "
      ]
    },
    {
      "cell_type": "code",
      "metadata": {
        "id": "h-9kd1d7jfFt"
      },
      "source": [
        "from random import choices"
      ],
      "execution_count": 46,
      "outputs": []
    },
    {
      "cell_type": "markdown",
      "metadata": {
        "id": "PMjT8cFmfkWO"
      },
      "source": [
        "#Cities where Hemingway lived "
      ]
    },
    {
      "cell_type": "code",
      "metadata": {
        "colab": {
          "base_uri": "https://localhost:8080/"
        },
        "id": "pLpFu2owgB_h",
        "outputId": "d66b4d69-21ee-4e3c-a591-15eccff2048d"
      },
      "source": [
        "city_list = ['Oak Park（Illinois）','Paris','Milano','Toronto','Chicago','Key West','Havana',\n",
        "           'Venice','Entebbe','New York','Ketchum']\n",
        "print (city_list)"
      ],
      "execution_count": 47,
      "outputs": [
        {
          "output_type": "stream",
          "name": "stdout",
          "text": [
            "['Oak Park（Illinois）', 'Paris', 'Milano', 'Toronto', 'Chicago', 'Key West', 'Havana', 'Venice', 'Entebbe', 'New York', 'Ketchum']\n"
          ]
        }
      ]
    },
    {
      "cell_type": "markdown",
      "metadata": {
        "id": "pX6fSHybgY5-"
      },
      "source": [
        "#Define a dictionary to store the distance between every two of these city."
      ]
    },
    {
      "cell_type": "code",
      "metadata": {
        "id": "gvRrmf5FgmCQ"
      },
      "source": [
        "distance_dic={}\n",
        "distance_dic[6667] = {'Oak Park（Illinois）','Paris'}\n",
        "distance_dic[7307] = {'Milano','Oak Park（Illinois）'}\n",
        "distance_dic[712] = {'Oak Park（Illinois）','Toronto'}\n",
        "distance_dic [12] ={'Oak Park（Illinois）','Chicago'}\n",
        "distance_dic[2007] = {'Oak Park（Illinois）','Key West'}\n",
        "distance_dic[2147] = {'Oak Park（Illinois）','Havana'}\n",
        "distance_dic[7505] = {'Oak Park（Illinois）','Venice'}\n",
        "distance_dic[12464] = {'Oak Park（Illinois）','Entebbe'}\n",
        "distance_dic[1158] = {'Oak Park（Illinois）','New York'}\n",
        "distance_dic[2171] = {'Oak Park（Illinois）','Ketchum'}\n",
        "\n",
        "distance_dic [640] ={'Paris','Milano'}\n",
        "distance_dic[6006] = {'Paris','Toronto'}\n",
        "distance_dic[6661] = {'Paris','Chicago'}\n",
        "distance_dic[7573] = {'Paris','Key West'}\n",
        "distance_dic [7729] ={'Paris','Havana'}\n",
        "distance_dic[845] = {'Paris','Venice'}\n",
        "distance_dic[6149] = {'Paris','Entebbe'}\n",
        "distance_dic[5844] = {'Paris','New York'}\n",
        "distance_dic[8034] = {'Paris','Ketchum'}\n",
        "\n",
        "distance_dic [6644] ={'Milano','Toronto'}\n",
        "distance_dic[7301] = {'Milano','Chicago'}\n",
        "distance_dic[8173] = {'Milano','Key West'}\n",
        "distance_dic[8326] ={'Milano','Havana'}\n",
        "distance_dic [245] ={'Milano','Venice'}\n",
        "distance_dic[5546] = {'Milano','Entebbe'}\n",
        "distance_dic[6471] = {'Milano','New York'}\n",
        "distance_dic[8657] = {'Milano','Ketchum'}\n",
        "\n",
        "distance_dic [703] ={'Toronto','Chicago'}\n",
        "distance_dic [2142] ={'Toronto','Key West'}\n",
        "distance_dic [2306] ={'Toronto','Havana',}\n",
        "distance_dic [6849] ={'Toronto','Venice'}\n",
        "distance_dic [11752] ={'Toronto','Entebbe'}\n",
        "distance_dic [556] ={'Toronto','New York'}\n",
        "distance_dic [2792] ={'Toronto','Ketchum'}\n",
        "\n",
        "distance_dic [2000] ={'Chicago','Key West'}\n",
        "distance_dic [2140] ={'Chicago','Havana'}\n",
        "distance_dic [7499] ={'Chicago','Venice'}\n",
        "distance_dic [12455] ={'Chicago','Entebbe'}\n",
        "distance_dic [1147] ={'Chicago','New York'}\n",
        "distance_dic [2183] ={'Chicago','Ketchum'}\n",
        "\n",
        "distance_dic [170] ={'Key West','Havana'}\n",
        "distance_dic [8405] ={'Key West','Venice'}\n",
        "distance_dic [12455] ={'Key West','Entebbe'}\n",
        "distance_dic [1939] ={'Key West','New York'}\n",
        "distance_dic [3643] ={'Key West','Ketchum'}\n",
        "\n",
        "distance_dic [8559] ={'Havana','Venice'}\n",
        "distance_dic [12544] ={'Havana','Entebbe'}\n",
        "distance_dic [2109] ={'Havana','New York'}\n",
        "distance_dic [3711] ={'Havana','Ketchum'}\n",
        "\n",
        "\n",
        "distance_dic [5424] ={'Venice','Entebbe'}\n",
        "distance_dic [6688] ={'Venice','New York'}\n",
        "distance_dic [8807] ={'Venice','Ketchum'}\n",
        "\n",
        "distance_dic [11394] ={'Entebbe','New York'}\n",
        "distance_dic [14159] ={'Entebbe','Ketchum'}\n",
        "\n",
        "distance_dic [3312] ={'New York','Ketchum'}"
      ],
      "execution_count": 48,
      "outputs": []
    },
    {
      "cell_type": "markdown",
      "metadata": {
        "id": "Rao2iKHbhCCx"
      },
      "source": [
        "#Randomly choose a start city to begin "
      ]
    },
    {
      "cell_type": "code",
      "metadata": {
        "colab": {
          "base_uri": "https://localhost:8080/"
        },
        "id": "aAik0vJVi0iI",
        "outputId": "d3384d40-9c01-4c1d-a0ef-02b838ac297e"
      },
      "source": [
        "start_city = (choices(city_list))[0]\n",
        "print(f\"Let's start at {start_city}!\" )"
      ],
      "execution_count": 49,
      "outputs": [
        {
          "output_type": "stream",
          "name": "stdout",
          "text": [
            "Let's start at Paris!\n"
          ]
        }
      ]
    },
    {
      "cell_type": "markdown",
      "metadata": {
        "id": "FteEk4jBpLEU"
      },
      "source": [
        "#Define a list to store the route and a list to store the distance (shortest) in each step."
      ]
    },
    {
      "cell_type": "code",
      "metadata": {
        "id": "0V7_3Z22pgkd"
      },
      "source": [
        "route = []\n",
        "\n",
        "route_dist = []"
      ],
      "execution_count": 50,
      "outputs": []
    },
    {
      "cell_type": "markdown",
      "metadata": {
        "id": "em3p8g1hpiiz"
      },
      "source": [
        "##Use use greedy algorithm by find the shortest distance in every step."
      ]
    },
    {
      "cell_type": "code",
      "metadata": {
        "id": "d924DXvhpmJg"
      },
      "source": [
        "for _ in range(len(city_list)-1):\n",
        "    distance_list = []\n",
        "    for distance, cities in distance_dic.items():\n",
        "        if start_city in cities:\n",
        "            distance_list.append(distance)\n",
        "            \n",
        "    shortest_dist = min(distance_list)\n",
        "    route_dist.append(shortest_dist)\n",
        "    nearest_cities = list(distance_dic[shortest_dist])\n",
        "    \n",
        "    nearest_cities. remove(start_city)\n",
        "    arrive_city = nearest_cities[0]\n",
        "    route.append([start_city,arrive_city])\n",
        "    start_city = arrive_city\n",
        "    for i in distance_list:\n",
        "        del(distance_dic[i])\n"
      ],
      "execution_count": 51,
      "outputs": []
    },
    {
      "cell_type": "markdown",
      "metadata": {
        "id": "50_TYM9-psTy"
      },
      "source": [
        "#Calculate the total distance."
      ]
    },
    {
      "cell_type": "code",
      "metadata": {
        "colab": {
          "base_uri": "https://localhost:8080/"
        },
        "id": "re5AyTkKpvXW",
        "outputId": "999e3389-d284-4940-f999-763fc8e515dd"
      },
      "source": [
        "total_distance = sum (route_dist)\n",
        "print(f'Total distance is {total_distance}'km)"
      ],
      "execution_count": 52,
      "outputs": [
        {
          "output_type": "stream",
          "name": "stdout",
          "text": [
            "Total distance is 24862\n"
          ]
        }
      ]
    },
    {
      "cell_type": "markdown",
      "metadata": {
        "id": "6s00eps5pypg"
      },
      "source": [
        "#Print the route."
      ]
    },
    {
      "cell_type": "code",
      "metadata": {
        "colab": {
          "base_uri": "https://localhost:8080/"
        },
        "id": "WOBQRZPpp17s",
        "outputId": "8b1a2592-baca-40ab-e1ea-579312623dcc"
      },
      "source": [
        "print('My route is:')\n",
        "for j in range(len(route)):\n",
        "    print(f'\\t{j+1}.{route[j]}')\n",
        "    "
      ],
      "execution_count": 53,
      "outputs": [
        {
          "output_type": "stream",
          "name": "stdout",
          "text": [
            "My route is:\n",
            "\t1.['Paris', 'Milano']\n",
            "\t2.['Milano', 'Venice']\n",
            "\t3.['Venice', 'Entebbe']\n",
            "\t4.['Entebbe', 'New York']\n",
            "\t5.['New York', 'Toronto']\n",
            "\t6.['Toronto', 'Chicago']\n",
            "\t7.['Chicago', 'Oak Park（Illinois）']\n",
            "\t8.['Oak Park（Illinois）', 'Key West']\n",
            "\t9.['Key West', 'Havana']\n",
            "\t10.['Havana', 'Ketchum']\n"
          ]
        }
      ]
    },
    {
      "cell_type": "markdown",
      "metadata": {
        "id": "4m2v8a_J3Apu"
      },
      "source": [
        "# If I want to choose start city ... "
      ]
    },
    {
      "cell_type": "code",
      "metadata": {
        "colab": {
          "base_uri": "https://localhost:8080/"
        },
        "id": "pv155CaZ5m2e",
        "outputId": "7457d4d3-8958-4e09-8eb7-cd44fb06e5ed"
      },
      "source": [
        "\n",
        "\n",
        "\n",
        "city_list = ['Oak Park（Illinois）','Paris','Milano','Toronto','Chicago','Key West','Havana',\n",
        "               'Venice','Entebbe','New York','Ketchum']\n",
        "print (city_list)\n",
        "\n",
        " #Choose a start city.\n",
        "start_city1 = input('Choose a start city:\\n')\n",
        "print(f\"Let's start at {start_city1}!\" )\n",
        "def greedy_travel(start_city):   \n",
        "    distance_dic={}\n",
        "    distance_dic[6667] = {'Oak Park（Illinois）','Paris'}\n",
        "    distance_dic[7307] = {'Milano','Oak Park（Illinois）'}\n",
        "    distance_dic[712] = {'Oak Park（Illinois）','Toronto'}\n",
        "    distance_dic [12] ={'Oak Park（Illinois）','Chicago'}\n",
        "    distance_dic[2007] = {'Oak Park（Illinois）','Key West'}\n",
        "    distance_dic[2147] = {'Oak Park（Illinois）','Havana'}\n",
        "    distance_dic[7505] = {'Oak Park（Illinois）','Venice'}\n",
        "    distance_dic[12464] = {'Oak Park（Illinois）','Entebbe'}\n",
        "    distance_dic[1158] = {'Oak Park（Illinois）','New York'}\n",
        "    distance_dic[2171] = {'Oak Park（Illinois）','Ketchum'}\n",
        "    \n",
        "    distance_dic [640] ={'Paris','Milano'}\n",
        "    distance_dic[6006] = {'Paris','Toronto'}\n",
        "    distance_dic[6661] = {'Paris','Chicago'}\n",
        "    distance_dic[7573] = {'Paris','Key West'}\n",
        "    distance_dic [7729] ={'Paris','Havana'}\n",
        "    distance_dic[845] = {'Paris','Venice'}\n",
        "    distance_dic[6149] = {'Paris','Entebbe'}\n",
        "    distance_dic[5844] = {'Paris','New York'}\n",
        "    distance_dic[8034] = {'Paris','Ketchum'}\n",
        "    \n",
        "    distance_dic [6644] ={'Milano','Toronto'}\n",
        "    distance_dic[7301] = {'Milano','Chicago'}\n",
        "    distance_dic[8173] = {'Milano','Key West'}\n",
        "    distance_dic[8326] ={'Milano','Havana'}\n",
        "    distance_dic [245] ={'Milano','Venice'}\n",
        "    distance_dic[5546] = {'Milano','Entebbe'}\n",
        "    distance_dic[6471] = {'Milano','New York'}\n",
        "    distance_dic[8657] = {'Milano','Ketchum'}\n",
        "    \n",
        "    distance_dic [703] ={'Toronto','Chicago'}\n",
        "    distance_dic [2142] ={'Toronto','Key West'}\n",
        "    distance_dic [2306] ={'Toronto','Havana',}\n",
        "    distance_dic [6849] ={'Toronto','Venice'}\n",
        "    distance_dic [11752] ={'Toronto','Entebbe'}\n",
        "    distance_dic [556] ={'Toronto','New York'}\n",
        "    distance_dic [2792] ={'Toronto','Ketchum'}\n",
        "    \n",
        "    distance_dic [2000] ={'Chicago','Key West'}\n",
        "    distance_dic [2140] ={'Chicago','Havana'}\n",
        "    distance_dic [7499] ={'Chicago','Venice'}\n",
        "    distance_dic [12455] ={'Chicago','Entebbe'}\n",
        "    distance_dic [1147] ={'Chicago','New York'}\n",
        "    distance_dic [2183] ={'Chicago','Ketchum'}\n",
        "    \n",
        "    distance_dic [170] ={'Key West','Havana'}\n",
        "    distance_dic [8405] ={'Key West','Venice'}\n",
        "    distance_dic [12455] ={'Key West','Entebbe'}\n",
        "    distance_dic [1939] ={'Key West','New York'}\n",
        "    distance_dic [3643] ={'Key West','Ketchum'}\n",
        "    \n",
        "    distance_dic [8559] ={'Havana','Venice'}\n",
        "    distance_dic [12544] ={'Havana','Entebbe'}\n",
        "    distance_dic [2109] ={'Havana','New York'}\n",
        "    distance_dic [3711] ={'Havana','Ketchum'}\n",
        "    \n",
        "    \n",
        "    distance_dic [5424] ={'Venice','Entebbe'}\n",
        "    distance_dic [6688] ={'Venice','New York'}\n",
        "    distance_dic [8807] ={'Venice','Ketchum'}\n",
        "    \n",
        "    distance_dic [11394] ={'Entebbe','New York'}\n",
        "    distance_dic [14159] ={'Entebbe','Ketchum'}\n",
        "    \n",
        "    distance_dic [3312] ={'New York','Ketchum'}\n",
        "       \n",
        "    #Define a list to store  the route\n",
        "    route = []\n",
        "    #Define a list to store the distance (shortest) in each step.\n",
        "    route_dist = []\n",
        "    #Use use greedy algorithm by find the shortest distance in every step.\n",
        "    for _ in range(len(city_list)-1):\n",
        "        distance_list = []\n",
        "        for distance, cities in distance_dic.items():\n",
        "            if start_city in cities:\n",
        "                distance_list.append(distance)\n",
        "       \n",
        "                \n",
        "        shortest_dist = min(distance_list)\n",
        "        route_dist.append(shortest_dist)\n",
        "        nearest_cities = list(distance_dic[shortest_dist])\n",
        "        \n",
        "        nearest_cities. remove(start_city)\n",
        "        arrive_city = nearest_cities[0]\n",
        "        route.append([start_city,arrive_city])\n",
        "        start_city = arrive_city\n",
        "        for i in distance_list:\n",
        "            del(distance_dic[i])\n",
        "    \n",
        "    \n",
        "    #Calculate the total distance.\n",
        "    total_distance = sum (route_dist)\n",
        "    print(f'Total distance is {total_distance}km')\n",
        "    #Print the route.\n",
        "    print('My route is:')\n",
        "    for j in range(len(route)):\n",
        "        print(f'\\t{j+1}.{route[j]}')\n",
        "\n",
        "\n",
        "greedy_travel(start_city1)"
      ],
      "execution_count": 57,
      "outputs": [
        {
          "output_type": "stream",
          "name": "stdout",
          "text": [
            "['Oak Park（Illinois）', 'Paris', 'Milano', 'Toronto', 'Chicago', 'Key West', 'Havana', 'Venice', 'Entebbe', 'New York', 'Ketchum']\n",
            "Choose a start city:\n",
            "Paris\n",
            "Let's start at Paris!\n",
            "Total distance is 24862km\n",
            "My route is:\n",
            "\t1.['Paris', 'Milano']\n",
            "\t2.['Milano', 'Venice']\n",
            "\t3.['Venice', 'Entebbe']\n",
            "\t4.['Entebbe', 'New York']\n",
            "\t5.['New York', 'Toronto']\n",
            "\t6.['Toronto', 'Chicago']\n",
            "\t7.['Chicago', 'Oak Park（Illinois）']\n",
            "\t8.['Oak Park（Illinois）', 'Key West']\n",
            "\t9.['Key West', 'Havana']\n",
            "\t10.['Havana', 'Ketchum']\n"
          ]
        }
      ]
    },
    {
      "cell_type": "markdown",
      "metadata": {
        "id": "AcTJJJ8H9h-E"
      },
      "source": [
        "# Campare the result of each cities as start city with others and find the best solution and shortest distance."
      ]
    },
    {
      "cell_type": "code",
      "metadata": {
        "colab": {
          "base_uri": "https://localhost:8080/"
        },
        "id": "SGAxZm729-xE",
        "outputId": "1e6e665d-2087-4ef9-f08b-97ba059597ef"
      },
      "source": [
        "\n",
        "\n",
        "city_list = ['Oak Park（Illinois）','Paris','Milano','Toronto','Chicago','Key West','Havana',\n",
        "               'Venice','Entebbe','New York','Ketchum']\n",
        "\n",
        "\n",
        "def greedy_shortestdist(start_city):   \n",
        "    distance_dic={}\n",
        "    distance_dic[6667] = {'Oak Park（Illinois）','Paris'}\n",
        "    distance_dic[7307] = {'Milano','Oak Park（Illinois）'}\n",
        "    distance_dic[712] = {'Oak Park（Illinois）','Toronto'}\n",
        "    distance_dic [12] ={'Oak Park（Illinois）','Chicago'}\n",
        "    distance_dic[2007] = {'Oak Park（Illinois）','Key West'}\n",
        "    distance_dic[2147] = {'Oak Park（Illinois）','Havana'}\n",
        "    distance_dic[7505] = {'Oak Park（Illinois）','Venice'}\n",
        "    distance_dic[12464] = {'Oak Park（Illinois）','Entebbe'}\n",
        "    distance_dic[1158] = {'Oak Park（Illinois）','New York'}\n",
        "    distance_dic[2171] = {'Oak Park（Illinois）','Ketchum'}\n",
        "    \n",
        "    distance_dic [640] ={'Paris','Milano'}\n",
        "    distance_dic[6006] = {'Paris','Toronto'}\n",
        "    distance_dic[6661] = {'Paris','Chicago'}\n",
        "    distance_dic[7573] = {'Paris','Key West'}\n",
        "    distance_dic [7729] ={'Paris','Havana'}\n",
        "    distance_dic[845] = {'Paris','Venice'}\n",
        "    distance_dic[6149] = {'Paris','Entebbe'}\n",
        "    distance_dic[5844] = {'Paris','New York'}\n",
        "    distance_dic[8034] = {'Paris','Ketchum'}\n",
        "    \n",
        "    distance_dic [6644] ={'Milano','Toronto'}\n",
        "    distance_dic[7301] = {'Milano','Chicago'}\n",
        "    distance_dic[8173] = {'Milano','Key West'}\n",
        "    distance_dic[8326] ={'Milano','Havana'}\n",
        "    distance_dic [245] ={'Milano','Venice'}\n",
        "    distance_dic[5546] = {'Milano','Entebbe'}\n",
        "    distance_dic[6471] = {'Milano','New York'}\n",
        "    distance_dic[8657] = {'Milano','Ketchum'}\n",
        "    \n",
        "    distance_dic [703] ={'Toronto','Chicago'}\n",
        "    distance_dic [2142] ={'Toronto','Key West'}\n",
        "    distance_dic [2306] ={'Toronto','Havana',}\n",
        "    distance_dic [6849] ={'Toronto','Venice'}\n",
        "    distance_dic [11752] ={'Toronto','Entebbe'}\n",
        "    distance_dic [556] ={'Toronto','New York'}\n",
        "    distance_dic [2792] ={'Toronto','Ketchum'}\n",
        "    \n",
        "    distance_dic [2000] ={'Chicago','Key West'}\n",
        "    distance_dic [2140] ={'Chicago','Havana'}\n",
        "    distance_dic [7499] ={'Chicago','Venice'}\n",
        "    distance_dic [12455] ={'Chicago','Entebbe'}\n",
        "    distance_dic [1147] ={'Chicago','New York'}\n",
        "    distance_dic [2183] ={'Chicago','Ketchum'}\n",
        "    \n",
        "    distance_dic [170] ={'Key West','Havana'}\n",
        "    distance_dic [8405] ={'Key West','Venice'}\n",
        "    distance_dic [12455] ={'Key West','Entebbe'}\n",
        "    distance_dic [1939] ={'Key West','New York'}\n",
        "    distance_dic [3643] ={'Key West','Ketchum'}\n",
        "    \n",
        "    distance_dic [8559] ={'Havana','Venice'}\n",
        "    distance_dic [12544] ={'Havana','Entebbe'}\n",
        "    distance_dic [2109] ={'Havana','New York'}\n",
        "    distance_dic [3711] ={'Havana','Ketchum'}\n",
        "    \n",
        "    \n",
        "    distance_dic [5424] ={'Venice','Entebbe'}\n",
        "    distance_dic [6688] ={'Venice','New York'}\n",
        "    distance_dic [8807] ={'Venice','Ketchum'}\n",
        "    \n",
        "    distance_dic [11394] ={'Entebbe','New York'}\n",
        "    distance_dic [14159] ={'Entebbe','Ketchum'}\n",
        "    \n",
        "    distance_dic [3312] ={'New York','Ketchum'}\n",
        "       \n",
        "    #Define a list to store  the route\n",
        "    route = []\n",
        "    #Define a list to store the distance (shortest) in each step.\n",
        "    route_dist = []\n",
        "    #Use use greedy algorithm by find the shortest distance in every step.\n",
        "    for _ in range(len(city_list)-1):\n",
        "        distance_list = []\n",
        "        for distance, cities in distance_dic.items():\n",
        "            if start_city in cities:\n",
        "                distance_list.append(distance)\n",
        "       \n",
        "                \n",
        "        shortest_dist = min(distance_list)\n",
        "        route_dist.append(shortest_dist)\n",
        "        nearest_cities = list(distance_dic[shortest_dist])\n",
        "        \n",
        "        nearest_cities. remove(start_city)\n",
        "        arrive_city = nearest_cities[0]\n",
        "        route.append([start_city,arrive_city])\n",
        "        start_city = arrive_city\n",
        "        for i in distance_list:\n",
        "            del(distance_dic[i])\n",
        "    \n",
        "    \n",
        "    #Calculate the total distance.\n",
        "    total_distance = sum (route_dist)\n",
        " \n",
        "    return total_distance \n",
        "\n",
        "startcities_shortestdict = {}\n",
        "for name in city_list:\n",
        "    startcities_shortestdict[name] = greedy_shortestdist(name)\n",
        "\n",
        "for n,dist in startcities_shortestdict.items():\n",
        "    if dist == min(startcities_shortestdict.values()):\n",
        "        print(f'{n} as a start city is the best solution and the shortest distance is {dist} km.')"
      ],
      "execution_count": 56,
      "outputs": [
        {
          "output_type": "stream",
          "name": "stdout",
          "text": [
            "Entebbe as a start city is the best solution and the shortest distance is 19312 km.\n"
          ]
        }
      ]
    },
    {
      "cell_type": "markdown",
      "metadata": {
        "id": "l6o-p7LC-HD6"
      },
      "source": [
        "#Conclusion\n"
      ]
    },
    {
      "cell_type": "markdown",
      "metadata": {
        "id": "zziG0des-Myt"
      },
      "source": [
        "Greedy algorithm may not be the best way to solve TSP problem but I truly get my own solution. Entebbe as a start city is the best solution and the shortest distance is 19312 km."
      ]
    }
  ]
}